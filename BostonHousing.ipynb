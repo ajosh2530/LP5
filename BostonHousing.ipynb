{
  "nbformat": 4,
  "nbformat_minor": 0,
  "metadata": {
    "colab": {
      "provenance": []
    },
    "kernelspec": {
      "name": "python3",
      "display_name": "Python 3"
    },
    "language_info": {
      "name": "python"
    }
  },
  "cells": [
    {
      "cell_type": "code",
      "execution_count": 1,
      "metadata": {
        "id": "VmbxRC0fZ_dU"
      },
      "outputs": [],
      "source": [
        "import pandas as pd\n",
        "import tensorflow as tf\n",
        "from sklearn import preprocessing"
      ]
    },
    {
      "cell_type": "code",
      "source": [
        "from tensorflow.keras.datasets import boston_housing"
      ],
      "metadata": {
        "id": "tTatMH52aJ72"
      },
      "execution_count": 2,
      "outputs": []
    },
    {
      "cell_type": "code",
      "source": [
        "boston = boston_housing"
      ],
      "metadata": {
        "id": "vMs7UtspaLiV"
      },
      "execution_count": 3,
      "outputs": []
    },
    {
      "cell_type": "code",
      "source": [
        "(train_x,train_y),(test_x,test_y) = boston_housing.load_data()"
      ],
      "metadata": {
        "colab": {
          "base_uri": "https://localhost:8080/"
        },
        "id": "8pbyf2EbaNHi",
        "outputId": "25282b74-5828-4e6b-81b7-878c3f56586d"
      },
      "execution_count": 4,
      "outputs": [
        {
          "output_type": "stream",
          "name": "stdout",
          "text": [
            "Downloading data from https://storage.googleapis.com/tensorflow/tf-keras-datasets/boston_housing.npz\n",
            "57026/57026 [==============================] - 0s 0us/step\n"
          ]
        }
      ]
    },
    {
      "cell_type": "code",
      "source": [
        "print(\"Train shape: \", train_x.shape)\n",
        "print(\"Test shape: \",test_x.shape)\n",
        "print(\"Actual Train output: \", train_y.shape)\n",
        "print(\"Actual Test output: \", test_y.shape)\n"
      ],
      "metadata": {
        "colab": {
          "base_uri": "https://localhost:8080/"
        },
        "id": "MZ1_Uq4QaO4w",
        "outputId": "9a720e21-b667-45d5-8dda-9cd123baa083"
      },
      "execution_count": 5,
      "outputs": [
        {
          "output_type": "stream",
          "name": "stdout",
          "text": [
            "Train shape:  (404, 13)\n",
            "Test shape:  (102, 13)\n",
            "Actual Train output:  (404,)\n",
            "Actual Test output:  (102,)\n"
          ]
        }
      ]
    },
    {
      "cell_type": "code",
      "source": [
        "train_x[0]"
      ],
      "metadata": {
        "colab": {
          "base_uri": "https://localhost:8080/"
        },
        "id": "UpP2kg3ba90d",
        "outputId": "6879dfb6-edc0-45a2-b8fe-9e473d7c605a"
      },
      "execution_count": 6,
      "outputs": [
        {
          "output_type": "execute_result",
          "data": {
            "text/plain": [
              "array([  1.23247,   0.     ,   8.14   ,   0.     ,   0.538  ,   6.142  ,\n",
              "        91.7    ,   3.9769 ,   4.     , 307.     ,  21.     , 396.9    ,\n",
              "        18.72   ])"
            ]
          },
          "metadata": {},
          "execution_count": 6
        }
      ]
    },
    {
      "cell_type": "code",
      "source": [
        "train_y[0]"
      ],
      "metadata": {
        "colab": {
          "base_uri": "https://localhost:8080/"
        },
        "id": "5v9f4tkUbCCy",
        "outputId": "6f48b46b-622f-4b81-e303-0dfde3085fe1"
      },
      "execution_count": 7,
      "outputs": [
        {
          "output_type": "execute_result",
          "data": {
            "text/plain": [
              "15.2"
            ]
          },
          "metadata": {},
          "execution_count": 7
        }
      ]
    },
    {
      "cell_type": "code",
      "source": [
        "train_x=preprocessing.normalize(train_x)\n",
        "test_x=preprocessing.normalize(test_x)"
      ],
      "metadata": {
        "id": "E_Xbfg66bIrF"
      },
      "execution_count": 8,
      "outputs": []
    },
    {
      "cell_type": "code",
      "source": [
        "train_x[0]"
      ],
      "metadata": {
        "colab": {
          "base_uri": "https://localhost:8080/"
        },
        "id": "nUTdZPlcbLA_",
        "outputId": "1b553f02-5943-4719-8a41-4d0b0c650c71"
      },
      "execution_count": 9,
      "outputs": [
        {
          "output_type": "execute_result",
          "data": {
            "text/plain": [
              "array([0.0024119 , 0.        , 0.01592969, 0.        , 0.00105285,\n",
              "       0.01201967, 0.17945359, 0.00778265, 0.00782786, 0.6007879 ,\n",
              "       0.04109624, 0.77671895, 0.03663436])"
            ]
          },
          "metadata": {},
          "execution_count": 9
        }
      ]
    },
    {
      "cell_type": "code",
      "source": [
        "train_y[0]"
      ],
      "metadata": {
        "colab": {
          "base_uri": "https://localhost:8080/"
        },
        "id": "sVRHzhYsbONR",
        "outputId": "5edcb9f2-77ea-4465-ee55-4ca6a3e439b4"
      },
      "execution_count": 10,
      "outputs": [
        {
          "output_type": "execute_result",
          "data": {
            "text/plain": [
              "15.2"
            ]
          },
          "metadata": {},
          "execution_count": 10
        }
      ]
    },
    {
      "cell_type": "code",
      "source": [
        "from tensorflow.keras.models import Sequential\n",
        "from tensorflow.keras.layers import *"
      ],
      "metadata": {
        "id": "MLLcLFUTbPv8"
      },
      "execution_count": 11,
      "outputs": []
    },
    {
      "cell_type": "code",
      "source": [
        "def HousePricePredictionModels():\n",
        "  model=Sequential()\n",
        "  model.add(Dense(64, input_dim=13, activation='relu'))\n",
        "  model.add(Dropout(0.2))\n",
        "  model.add(Dense(32, activation='relu'))\n",
        "  model.add(Dense(1))\n",
        "  print(model.summary())\n",
        "  model.compile(loss='mean_squared_error', optimizer='adam', metrics=['mean_absolute_error'])\n",
        "  history = model.fit(x=train_x, y=train_y, validation_split=0.2, epochs=num_epochs, batch_size=1, verbose=1, validation_data=(test_x, test_y))\n",
        "  return model"
      ],
      "metadata": {
        "id": "9uFpOakGbSTP"
      },
      "execution_count": 15,
      "outputs": []
    },
    {
      "cell_type": "code",
      "source": [],
      "metadata": {
        "colab": {
          "base_uri": "https://localhost:8080/",
          "height": 165
        },
        "id": "YZPA68l6bZ1o",
        "outputId": "2ecbd989-2420-4c7b-e24e-7569a926cc2b"
      },
      "execution_count": 14,
      "outputs": [
        {
          "output_type": "error",
          "ename": "NameError",
          "evalue": "ignored",
          "traceback": [
            "\u001b[0;31m---------------------------------------------------------------------------\u001b[0m",
            "\u001b[0;31mNameError\u001b[0m                                 Traceback (most recent call last)",
            "\u001b[0;32m<ipython-input-14-3caefa261807>\u001b[0m in \u001b[0;36m<cell line: 1>\u001b[0;34m()\u001b[0m\n\u001b[0;32m----> 1\u001b[0;31m \u001b[0mprint\u001b[0m\u001b[0;34m(\u001b[0m\u001b[0mmodel\u001b[0m\u001b[0;34m.\u001b[0m\u001b[0msummary\u001b[0m\u001b[0;34m(\u001b[0m\u001b[0;34m)\u001b[0m\u001b[0;34m)\u001b[0m\u001b[0;34m\u001b[0m\u001b[0;34m\u001b[0m\u001b[0m\n\u001b[0m",
            "\u001b[0;31mNameError\u001b[0m: name 'model' is not defined"
          ]
        }
      ]
    },
    {
      "cell_type": "code",
      "source": [
        "import numpy as np\n",
        "k = 4\n",
        "num_val_samples = len(train_x)\n",
        "num_epochs = 100\n",
        "all_scores = []\n"
      ],
      "metadata": {
        "id": "K2RciomTbmmJ"
      },
      "execution_count": 16,
      "outputs": []
    },
    {
      "cell_type": "code",
      "source": [
        "model = HousePricePredictionModels()\n",
        "history = model.fit(x=train_x, y=train_y, validation_split=0.2, epochs=num_epochs, batch_size=1, verbose=1, validation_data=(test_x, test_y))\n",
        "\n"
      ],
      "metadata": {
        "colab": {
          "base_uri": "https://localhost:8080/"
        },
        "id": "Vk4293DYbnRa",
        "outputId": "568e30d4-b1e1-417d-81fe-20a7fdc26df7"
      },
      "execution_count": null,
      "outputs": [
        {
          "output_type": "stream",
          "name": "stdout",
          "text": [
            "Model: \"sequential\"\n",
            "_________________________________________________________________\n",
            " Layer (type)                Output Shape              Param #   \n",
            "=================================================================\n",
            " dense (Dense)               (None, 64)                896       \n",
            "                                                                 \n",
            " dropout (Dropout)           (None, 64)                0         \n",
            "                                                                 \n",
            " dense_1 (Dense)             (None, 32)                2080      \n",
            "                                                                 \n",
            " dense_2 (Dense)             (None, 1)                 33        \n",
            "                                                                 \n",
            "=================================================================\n",
            "Total params: 3,009\n",
            "Trainable params: 3,009\n",
            "Non-trainable params: 0\n",
            "_________________________________________________________________\n",
            "None\n",
            "Epoch 1/100\n",
            "404/404 [==============================] - 2s 3ms/step - loss: 245.6617 - mean_absolute_error: 11.9723 - val_loss: 79.9740 - val_mean_absolute_error: 6.3164\n",
            "Epoch 2/100\n",
            "404/404 [==============================] - 1s 2ms/step - loss: 79.9721 - mean_absolute_error: 6.4891 - val_loss: 73.8225 - val_mean_absolute_error: 6.0223\n",
            "Epoch 3/100\n",
            "404/404 [==============================] - 1s 2ms/step - loss: 76.7023 - mean_absolute_error: 6.2523 - val_loss: 65.2564 - val_mean_absolute_error: 5.7556\n",
            "Epoch 4/100\n",
            "404/404 [==============================] - 1s 2ms/step - loss: 66.9417 - mean_absolute_error: 5.8315 - val_loss: 61.7883 - val_mean_absolute_error: 5.6302\n",
            "Epoch 5/100\n",
            "404/404 [==============================] - 1s 4ms/step - loss: 69.7415 - mean_absolute_error: 5.9110 - val_loss: 58.1504 - val_mean_absolute_error: 5.5398\n",
            "Epoch 6/100\n",
            "404/404 [==============================] - 1s 3ms/step - loss: 62.9193 - mean_absolute_error: 5.6310 - val_loss: 57.1039 - val_mean_absolute_error: 5.4667\n",
            "Epoch 7/100\n",
            "404/404 [==============================] - 1s 2ms/step - loss: 62.0040 - mean_absolute_error: 5.5667 - val_loss: 56.7192 - val_mean_absolute_error: 5.4364\n",
            "Epoch 8/100\n",
            "404/404 [==============================] - 1s 2ms/step - loss: 60.1425 - mean_absolute_error: 5.5305 - val_loss: 59.9779 - val_mean_absolute_error: 5.5051\n",
            "Epoch 9/100\n",
            "404/404 [==============================] - 1s 2ms/step - loss: 60.4549 - mean_absolute_error: 5.5016 - val_loss: 55.2687 - val_mean_absolute_error: 5.3602\n",
            "Epoch 10/100\n",
            "404/404 [==============================] - 1s 2ms/step - loss: 58.6704 - mean_absolute_error: 5.3948 - val_loss: 56.5819 - val_mean_absolute_error: 5.3659\n",
            "Epoch 11/100\n",
            "404/404 [==============================] - 1s 2ms/step - loss: 57.6404 - mean_absolute_error: 5.3114 - val_loss: 59.8292 - val_mean_absolute_error: 5.4609\n",
            "Epoch 12/100\n",
            "404/404 [==============================] - 1s 2ms/step - loss: 59.0718 - mean_absolute_error: 5.3235 - val_loss: 52.4131 - val_mean_absolute_error: 5.2539\n",
            "Epoch 13/100\n",
            "404/404 [==============================] - 1s 2ms/step - loss: 58.8381 - mean_absolute_error: 5.3602 - val_loss: 58.7816 - val_mean_absolute_error: 5.3899\n",
            "Epoch 14/100\n",
            "404/404 [==============================] - 1s 2ms/step - loss: 57.7695 - mean_absolute_error: 5.1885 - val_loss: 51.1791 - val_mean_absolute_error: 5.2429\n",
            "Epoch 15/100\n",
            "404/404 [==============================] - 1s 2ms/step - loss: 57.9198 - mean_absolute_error: 5.3079 - val_loss: 51.2533 - val_mean_absolute_error: 5.1335\n",
            "Epoch 16/100\n",
            "404/404 [==============================] - 1s 2ms/step - loss: 52.2502 - mean_absolute_error: 4.9744 - val_loss: 50.5734 - val_mean_absolute_error: 5.2550\n",
            "Epoch 17/100\n",
            "404/404 [==============================] - 1s 2ms/step - loss: 54.5743 - mean_absolute_error: 5.1570 - val_loss: 50.6134 - val_mean_absolute_error: 5.0562\n",
            "Epoch 18/100\n",
            "404/404 [==============================] - 1s 3ms/step - loss: 56.1585 - mean_absolute_error: 5.2008 - val_loss: 49.5587 - val_mean_absolute_error: 5.1596\n",
            "Epoch 19/100\n",
            "404/404 [==============================] - 1s 3ms/step - loss: 50.3181 - mean_absolute_error: 4.8835 - val_loss: 48.1561 - val_mean_absolute_error: 5.0089\n",
            "Epoch 20/100\n",
            "404/404 [==============================] - 1s 3ms/step - loss: 52.3790 - mean_absolute_error: 5.0688 - val_loss: 48.8600 - val_mean_absolute_error: 4.9267\n",
            "Epoch 21/100\n",
            "404/404 [==============================] - 1s 2ms/step - loss: 53.9710 - mean_absolute_error: 4.9548 - val_loss: 49.7441 - val_mean_absolute_error: 4.9387\n",
            "Epoch 22/100\n",
            "404/404 [==============================] - 1s 2ms/step - loss: 51.3377 - mean_absolute_error: 4.9439 - val_loss: 51.5816 - val_mean_absolute_error: 5.0003\n",
            "Epoch 23/100\n",
            "404/404 [==============================] - 1s 2ms/step - loss: 50.3625 - mean_absolute_error: 4.8815 - val_loss: 45.1855 - val_mean_absolute_error: 4.8369\n",
            "Epoch 24/100\n",
            "404/404 [==============================] - 1s 2ms/step - loss: 50.0314 - mean_absolute_error: 4.9533 - val_loss: 44.5961 - val_mean_absolute_error: 4.7019\n",
            "Epoch 25/100\n",
            "404/404 [==============================] - 1s 2ms/step - loss: 46.2273 - mean_absolute_error: 4.7327 - val_loss: 46.8976 - val_mean_absolute_error: 4.7639\n",
            "Epoch 26/100\n",
            "404/404 [==============================] - 1s 2ms/step - loss: 45.8252 - mean_absolute_error: 4.7806 - val_loss: 43.2984 - val_mean_absolute_error: 4.7069\n",
            "Epoch 27/100\n",
            "404/404 [==============================] - 1s 2ms/step - loss: 47.5566 - mean_absolute_error: 4.7518 - val_loss: 42.3042 - val_mean_absolute_error: 4.5807\n",
            "Epoch 28/100\n",
            "404/404 [==============================] - 1s 2ms/step - loss: 46.7720 - mean_absolute_error: 4.7972 - val_loss: 41.7191 - val_mean_absolute_error: 4.6076\n",
            "Epoch 29/100\n",
            "404/404 [==============================] - 1s 2ms/step - loss: 45.3186 - mean_absolute_error: 4.6846 - val_loss: 41.2853 - val_mean_absolute_error: 4.4608\n",
            "Epoch 30/100\n",
            "404/404 [==============================] - 1s 2ms/step - loss: 44.7489 - mean_absolute_error: 4.6458 - val_loss: 40.8838 - val_mean_absolute_error: 4.5612\n",
            "Epoch 31/100\n",
            "404/404 [==============================] - 2s 4ms/step - loss: 48.1474 - mean_absolute_error: 4.7653 - val_loss: 39.6056 - val_mean_absolute_error: 4.4166\n",
            "Epoch 32/100\n",
            "404/404 [==============================] - 1s 3ms/step - loss: 44.5248 - mean_absolute_error: 4.6397 - val_loss: 39.9636 - val_mean_absolute_error: 4.3631\n",
            "Epoch 33/100\n",
            "404/404 [==============================] - 1s 2ms/step - loss: 43.6704 - mean_absolute_error: 4.6243 - val_loss: 37.6484 - val_mean_absolute_error: 4.3208\n",
            "Epoch 34/100\n",
            "404/404 [==============================] - 1s 2ms/step - loss: 40.4223 - mean_absolute_error: 4.5235 - val_loss: 38.3166 - val_mean_absolute_error: 4.2843\n",
            "Epoch 35/100\n",
            "404/404 [==============================] - 1s 3ms/step - loss: 42.0893 - mean_absolute_error: 4.5662 - val_loss: 42.8680 - val_mean_absolute_error: 4.5143\n",
            "Epoch 36/100\n",
            "404/404 [==============================] - 1s 2ms/step - loss: 42.2625 - mean_absolute_error: 4.5786 - val_loss: 41.4745 - val_mean_absolute_error: 4.4242\n",
            "Epoch 37/100\n",
            "404/404 [==============================] - 1s 2ms/step - loss: 39.6265 - mean_absolute_error: 4.3268 - val_loss: 35.6412 - val_mean_absolute_error: 4.2348\n",
            "Epoch 38/100\n",
            "404/404 [==============================] - 1s 2ms/step - loss: 39.9413 - mean_absolute_error: 4.4720 - val_loss: 34.2396 - val_mean_absolute_error: 4.0686\n",
            "Epoch 39/100\n",
            "404/404 [==============================] - 1s 2ms/step - loss: 37.4359 - mean_absolute_error: 4.3569 - val_loss: 35.4303 - val_mean_absolute_error: 4.1141\n",
            "Epoch 40/100\n",
            "404/404 [==============================] - 1s 2ms/step - loss: 36.7612 - mean_absolute_error: 4.2907 - val_loss: 34.0767 - val_mean_absolute_error: 4.0427\n",
            "Epoch 41/100\n",
            "404/404 [==============================] - 1s 2ms/step - loss: 37.5096 - mean_absolute_error: 4.3046 - val_loss: 36.8601 - val_mean_absolute_error: 4.7145\n",
            "Epoch 42/100\n",
            "404/404 [==============================] - 1s 2ms/step - loss: 38.2348 - mean_absolute_error: 4.3702 - val_loss: 32.8415 - val_mean_absolute_error: 3.9725\n",
            "Epoch 43/100\n",
            "404/404 [==============================] - 1s 3ms/step - loss: 33.0948 - mean_absolute_error: 4.1331 - val_loss: 36.0201 - val_mean_absolute_error: 4.1192\n",
            "Epoch 44/100\n",
            "404/404 [==============================] - 2s 4ms/step - loss: 36.2485 - mean_absolute_error: 4.2324 - val_loss: 33.2690 - val_mean_absolute_error: 3.9597\n",
            "Epoch 45/100\n",
            "404/404 [==============================] - 1s 2ms/step - loss: 35.6405 - mean_absolute_error: 4.2424 - val_loss: 35.2078 - val_mean_absolute_error: 4.0778\n",
            "Epoch 46/100\n",
            "404/404 [==============================] - 1s 2ms/step - loss: 34.0786 - mean_absolute_error: 4.1926 - val_loss: 31.9964 - val_mean_absolute_error: 3.8946\n",
            "Epoch 47/100\n",
            "404/404 [==============================] - 1s 2ms/step - loss: 33.1757 - mean_absolute_error: 4.1147 - val_loss: 30.7234 - val_mean_absolute_error: 3.8567\n",
            "Epoch 48/100\n",
            "404/404 [==============================] - 1s 2ms/step - loss: 33.0404 - mean_absolute_error: 4.0559 - val_loss: 31.2769 - val_mean_absolute_error: 3.8792\n",
            "Epoch 49/100\n",
            "404/404 [==============================] - 1s 2ms/step - loss: 30.1282 - mean_absolute_error: 4.0115 - val_loss: 28.6589 - val_mean_absolute_error: 3.8036\n",
            "Epoch 50/100\n",
            "404/404 [==============================] - 1s 2ms/step - loss: 31.6308 - mean_absolute_error: 4.0171 - val_loss: 28.8802 - val_mean_absolute_error: 3.8404\n",
            "Epoch 51/100\n",
            "404/404 [==============================] - 1s 2ms/step - loss: 30.8335 - mean_absolute_error: 3.9492 - val_loss: 33.6888 - val_mean_absolute_error: 4.0135\n",
            "Epoch 52/100\n",
            "404/404 [==============================] - 1s 2ms/step - loss: 29.6505 - mean_absolute_error: 3.9744 - val_loss: 30.5717 - val_mean_absolute_error: 3.8614\n",
            "Epoch 53/100\n",
            "404/404 [==============================] - 1s 2ms/step - loss: 29.6407 - mean_absolute_error: 3.8562 - val_loss: 32.1862 - val_mean_absolute_error: 3.9339\n",
            "Epoch 54/100\n",
            "404/404 [==============================] - 1s 2ms/step - loss: 28.7194 - mean_absolute_error: 3.8383 - val_loss: 27.1674 - val_mean_absolute_error: 3.7868\n",
            "Epoch 55/100\n",
            "404/404 [==============================] - 1s 2ms/step - loss: 28.0495 - mean_absolute_error: 3.8272 - val_loss: 31.8255 - val_mean_absolute_error: 4.4800\n",
            "Epoch 56/100\n",
            "404/404 [==============================] - 1s 4ms/step - loss: 26.8697 - mean_absolute_error: 3.6738 - val_loss: 27.8436 - val_mean_absolute_error: 4.0186\n",
            "Epoch 57/100\n",
            "404/404 [==============================] - 1s 4ms/step - loss: 29.9518 - mean_absolute_error: 3.9343 - val_loss: 27.1489 - val_mean_absolute_error: 3.8096\n",
            "Epoch 58/100\n",
            "404/404 [==============================] - 1s 2ms/step - loss: 24.0896 - mean_absolute_error: 3.5970 - val_loss: 28.2971 - val_mean_absolute_error: 3.7839\n",
            "Epoch 59/100\n",
            "404/404 [==============================] - 1s 2ms/step - loss: 25.8473 - mean_absolute_error: 3.6917 - val_loss: 27.7327 - val_mean_absolute_error: 3.7768\n",
            "Epoch 60/100\n",
            "404/404 [==============================] - 1s 2ms/step - loss: 27.1521 - mean_absolute_error: 3.8374 - val_loss: 28.3751 - val_mean_absolute_error: 3.8114\n",
            "Epoch 61/100\n",
            "404/404 [==============================] - 1s 2ms/step - loss: 26.9949 - mean_absolute_error: 3.7464 - val_loss: 31.3746 - val_mean_absolute_error: 3.9832\n",
            "Epoch 62/100\n",
            "404/404 [==============================] - 1s 2ms/step - loss: 24.9113 - mean_absolute_error: 3.6971 - val_loss: 27.7428 - val_mean_absolute_error: 4.0385\n",
            "Epoch 63/100\n",
            "404/404 [==============================] - 1s 2ms/step - loss: 23.8977 - mean_absolute_error: 3.5515 - val_loss: 26.5444 - val_mean_absolute_error: 3.7851\n",
            "Epoch 64/100\n",
            "404/404 [==============================] - 1s 2ms/step - loss: 25.2127 - mean_absolute_error: 3.6650 - val_loss: 34.2814 - val_mean_absolute_error: 4.2044\n",
            "Epoch 65/100\n",
            "404/404 [==============================] - 1s 2ms/step - loss: 23.4324 - mean_absolute_error: 3.4679 - val_loss: 28.5933 - val_mean_absolute_error: 3.8681\n",
            "Epoch 66/100\n",
            "404/404 [==============================] - 1s 2ms/step - loss: 22.7337 - mean_absolute_error: 3.4732 - val_loss: 27.4657 - val_mean_absolute_error: 3.9993\n",
            "Epoch 67/100\n",
            "404/404 [==============================] - 1s 2ms/step - loss: 23.1404 - mean_absolute_error: 3.5358 - val_loss: 31.4130 - val_mean_absolute_error: 4.0125\n",
            "Epoch 68/100\n",
            " 52/404 [==>...........................] - ETA: 0s - loss: 17.6022 - mean_absolute_error: 3.2760"
          ]
        }
      ]
    },
    {
      "cell_type": "code",
      "source": [],
      "metadata": {
        "id": "mLdCK5ofcBEo"
      },
      "execution_count": null,
      "outputs": []
    }
  ]
}